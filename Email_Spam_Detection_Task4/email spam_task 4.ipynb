{
 "cells": [
  {
   "cell_type": "markdown",
   "id": "47c555ca",
   "metadata": {},
   "source": [
    "# Email Spam Detection with Machine Learning\n",
    "\n",
    "Email spam detection with machine learning involves training a model on a labeled dataset of emails (spam and non-spam) to learn patterns and features that distinguish between the two. The model then applies these learned patterns to classify incoming emails as either spam or legitimate based on their content, sender, and other characteristics. Common techniques include using text analysis, natural language processing, and feature engineering to build an effective spam filter."
   ]
  },
  {
   "cell_type": "markdown",
   "id": "ba5495b9",
   "metadata": {},
   "source": [
    "# Targets\n",
    "\n",
    "The primary objectives of email spam detection using machine learning are to enhance email security and user experience. By employing ML algorithms, we aim to automatically identify and filter out spam emails, reducing the risk of phishing attacks, malware distribution, and unwanted solicitations. This enhances productivity, protects users from malicious content, and ensures that important emails reach their intended recipients, ultimately improving overall email communication efficiency and safety."
   ]
  },
  {
   "cell_type": "code",
   "execution_count": null,
   "id": "dd14044f",
   "metadata": {},
   "outputs": [],
   "source": [
    "#Importing the dependencies\n",
    "\n",
    "import numpy as np\n",
    "import pandas as pd\n",
    "from sklearn.model_selection import train_test_split\n",
    "from sklearn.feature_extraction.text import TfidfVectorizer  #converting the text data i.e., mail data into numerical values.So that our machine learning model can understand it easily.\n",
    "from sklearn.linear_model import LogisticRegression\n",
    "from sklearn.metrics import accuracy_score "
   ]
  },
  {
   "cell_type": "markdown",
   "id": "b567dfd2",
   "metadata": {},
   "source": [
    "# Data Collection and Pre-Processing:"
   ]
  },
  {
   "cell_type": "code",
   "execution_count": 2,
   "id": "3618f4e2",
   "metadata": {},
   "outputs": [],
   "source": [
    "#loading the data from csv file to a pandas dataframe\n",
    "\n",
    "raw_mail_data=pd.read_csv(\"spam.csv\",encoding='latin-1')"
   ]
  },
  {
   "cell_type": "code",
   "execution_count": 3,
   "id": "f5af31aa",
   "metadata": {},
   "outputs": [
    {
     "data": {
      "text/html": [
       "<div>\n",
       "<style scoped>\n",
       "    .dataframe tbody tr th:only-of-type {\n",
       "        vertical-align: middle;\n",
       "    }\n",
       "\n",
       "    .dataframe tbody tr th {\n",
       "        vertical-align: top;\n",
       "    }\n",
       "\n",
       "    .dataframe thead th {\n",
       "        text-align: right;\n",
       "    }\n",
       "</style>\n",
       "<table border=\"1\" class=\"dataframe\">\n",
       "  <thead>\n",
       "    <tr style=\"text-align: right;\">\n",
       "      <th></th>\n",
       "      <th>v1</th>\n",
       "      <th>v2</th>\n",
       "      <th>Unnamed: 2</th>\n",
       "      <th>Unnamed: 3</th>\n",
       "      <th>Unnamed: 4</th>\n",
       "    </tr>\n",
       "  </thead>\n",
       "  <tbody>\n",
       "    <tr>\n",
       "      <th>0</th>\n",
       "      <td>ham</td>\n",
       "      <td>Go until jurong point, crazy.. Available only ...</td>\n",
       "      <td>NaN</td>\n",
       "      <td>NaN</td>\n",
       "      <td>NaN</td>\n",
       "    </tr>\n",
       "    <tr>\n",
       "      <th>1</th>\n",
       "      <td>ham</td>\n",
       "      <td>Ok lar... Joking wif u oni...</td>\n",
       "      <td>NaN</td>\n",
       "      <td>NaN</td>\n",
       "      <td>NaN</td>\n",
       "    </tr>\n",
       "    <tr>\n",
       "      <th>2</th>\n",
       "      <td>spam</td>\n",
       "      <td>Free entry in 2 a wkly comp to win FA Cup fina...</td>\n",
       "      <td>NaN</td>\n",
       "      <td>NaN</td>\n",
       "      <td>NaN</td>\n",
       "    </tr>\n",
       "    <tr>\n",
       "      <th>3</th>\n",
       "      <td>ham</td>\n",
       "      <td>U dun say so early hor... U c already then say...</td>\n",
       "      <td>NaN</td>\n",
       "      <td>NaN</td>\n",
       "      <td>NaN</td>\n",
       "    </tr>\n",
       "    <tr>\n",
       "      <th>4</th>\n",
       "      <td>ham</td>\n",
       "      <td>Nah I don't think he goes to usf, he lives aro...</td>\n",
       "      <td>NaN</td>\n",
       "      <td>NaN</td>\n",
       "      <td>NaN</td>\n",
       "    </tr>\n",
       "  </tbody>\n",
       "</table>\n",
       "</div>"
      ],
      "text/plain": [
       "     v1                                                 v2 Unnamed: 2  \\\n",
       "0   ham  Go until jurong point, crazy.. Available only ...        NaN   \n",
       "1   ham                      Ok lar... Joking wif u oni...        NaN   \n",
       "2  spam  Free entry in 2 a wkly comp to win FA Cup fina...        NaN   \n",
       "3   ham  U dun say so early hor... U c already then say...        NaN   \n",
       "4   ham  Nah I don't think he goes to usf, he lives aro...        NaN   \n",
       "\n",
       "  Unnamed: 3 Unnamed: 4  \n",
       "0        NaN        NaN  \n",
       "1        NaN        NaN  \n",
       "2        NaN        NaN  \n",
       "3        NaN        NaN  \n",
       "4        NaN        NaN  "
      ]
     },
     "execution_count": 3,
     "metadata": {},
     "output_type": "execute_result"
    }
   ],
   "source": [
    "raw_mail_data.head()"
   ]
  },
  {
   "cell_type": "code",
   "execution_count": 4,
   "id": "2208f09f",
   "metadata": {},
   "outputs": [
    {
     "name": "stdout",
     "output_type": "stream",
     "text": [
      "        v1                                                 v2 Unnamed: 2  \\\n",
      "0      ham  Go until jurong point, crazy.. Available only ...        NaN   \n",
      "1      ham                      Ok lar... Joking wif u oni...        NaN   \n",
      "2     spam  Free entry in 2 a wkly comp to win FA Cup fina...        NaN   \n",
      "3      ham  U dun say so early hor... U c already then say...        NaN   \n",
      "4      ham  Nah I don't think he goes to usf, he lives aro...        NaN   \n",
      "...    ...                                                ...        ...   \n",
      "5567  spam  This is the 2nd time we have tried 2 contact u...        NaN   \n",
      "5568   ham              Will Ì_ b going to esplanade fr home?        NaN   \n",
      "5569   ham  Pity, * was in mood for that. So...any other s...        NaN   \n",
      "5570   ham  The guy did some bitching but I acted like i'd...        NaN   \n",
      "5571   ham                         Rofl. Its true to its name        NaN   \n",
      "\n",
      "     Unnamed: 3 Unnamed: 4  \n",
      "0           NaN        NaN  \n",
      "1           NaN        NaN  \n",
      "2           NaN        NaN  \n",
      "3           NaN        NaN  \n",
      "4           NaN        NaN  \n",
      "...         ...        ...  \n",
      "5567        NaN        NaN  \n",
      "5568        NaN        NaN  \n",
      "5569        NaN        NaN  \n",
      "5570        NaN        NaN  \n",
      "5571        NaN        NaN  \n",
      "\n",
      "[5572 rows x 5 columns]\n"
     ]
    }
   ],
   "source": [
    "print(raw_mail_data)"
   ]
  },
  {
   "cell_type": "code",
   "execution_count": 5,
   "id": "300a2b42",
   "metadata": {},
   "outputs": [],
   "source": [
    "#reppace all null mail values with a null string\n",
    "\n",
    "mail_data=raw_mail_data.where((pd.notnull(raw_mail_data)),'')"
   ]
  },
  {
   "cell_type": "code",
   "execution_count": 6,
   "id": "18069aac",
   "metadata": {},
   "outputs": [
    {
     "data": {
      "text/html": [
       "<div>\n",
       "<style scoped>\n",
       "    .dataframe tbody tr th:only-of-type {\n",
       "        vertical-align: middle;\n",
       "    }\n",
       "\n",
       "    .dataframe tbody tr th {\n",
       "        vertical-align: top;\n",
       "    }\n",
       "\n",
       "    .dataframe thead th {\n",
       "        text-align: right;\n",
       "    }\n",
       "</style>\n",
       "<table border=\"1\" class=\"dataframe\">\n",
       "  <thead>\n",
       "    <tr style=\"text-align: right;\">\n",
       "      <th></th>\n",
       "      <th>v1</th>\n",
       "      <th>v2</th>\n",
       "      <th>Unnamed: 2</th>\n",
       "      <th>Unnamed: 3</th>\n",
       "      <th>Unnamed: 4</th>\n",
       "    </tr>\n",
       "  </thead>\n",
       "  <tbody>\n",
       "    <tr>\n",
       "      <th>0</th>\n",
       "      <td>ham</td>\n",
       "      <td>Go until jurong point, crazy.. Available only ...</td>\n",
       "      <td></td>\n",
       "      <td></td>\n",
       "      <td></td>\n",
       "    </tr>\n",
       "    <tr>\n",
       "      <th>1</th>\n",
       "      <td>ham</td>\n",
       "      <td>Ok lar... Joking wif u oni...</td>\n",
       "      <td></td>\n",
       "      <td></td>\n",
       "      <td></td>\n",
       "    </tr>\n",
       "    <tr>\n",
       "      <th>2</th>\n",
       "      <td>spam</td>\n",
       "      <td>Free entry in 2 a wkly comp to win FA Cup fina...</td>\n",
       "      <td></td>\n",
       "      <td></td>\n",
       "      <td></td>\n",
       "    </tr>\n",
       "    <tr>\n",
       "      <th>3</th>\n",
       "      <td>ham</td>\n",
       "      <td>U dun say so early hor... U c already then say...</td>\n",
       "      <td></td>\n",
       "      <td></td>\n",
       "      <td></td>\n",
       "    </tr>\n",
       "    <tr>\n",
       "      <th>4</th>\n",
       "      <td>ham</td>\n",
       "      <td>Nah I don't think he goes to usf, he lives aro...</td>\n",
       "      <td></td>\n",
       "      <td></td>\n",
       "      <td></td>\n",
       "    </tr>\n",
       "  </tbody>\n",
       "</table>\n",
       "</div>"
      ],
      "text/plain": [
       "     v1                                                 v2 Unnamed: 2  \\\n",
       "0   ham  Go until jurong point, crazy.. Available only ...              \n",
       "1   ham                      Ok lar... Joking wif u oni...              \n",
       "2  spam  Free entry in 2 a wkly comp to win FA Cup fina...              \n",
       "3   ham  U dun say so early hor... U c already then say...              \n",
       "4   ham  Nah I don't think he goes to usf, he lives aro...              \n",
       "\n",
       "  Unnamed: 3 Unnamed: 4  \n",
       "0                        \n",
       "1                        \n",
       "2                        \n",
       "3                        \n",
       "4                        "
      ]
     },
     "execution_count": 6,
     "metadata": {},
     "output_type": "execute_result"
    }
   ],
   "source": [
    "mail_data.head()"
   ]
  },
  {
   "cell_type": "code",
   "execution_count": 7,
   "id": "339d83d8",
   "metadata": {},
   "outputs": [],
   "source": [
    "mail_data.drop(['Unnamed: 2','Unnamed: 3', 'Unnamed: 4'], axis = 1, inplace = True)"
   ]
  },
  {
   "cell_type": "code",
   "execution_count": 8,
   "id": "36afc888",
   "metadata": {},
   "outputs": [
    {
     "data": {
      "text/html": [
       "<div>\n",
       "<style scoped>\n",
       "    .dataframe tbody tr th:only-of-type {\n",
       "        vertical-align: middle;\n",
       "    }\n",
       "\n",
       "    .dataframe tbody tr th {\n",
       "        vertical-align: top;\n",
       "    }\n",
       "\n",
       "    .dataframe thead th {\n",
       "        text-align: right;\n",
       "    }\n",
       "</style>\n",
       "<table border=\"1\" class=\"dataframe\">\n",
       "  <thead>\n",
       "    <tr style=\"text-align: right;\">\n",
       "      <th></th>\n",
       "      <th>v1</th>\n",
       "      <th>v2</th>\n",
       "    </tr>\n",
       "  </thead>\n",
       "  <tbody>\n",
       "    <tr>\n",
       "      <th>0</th>\n",
       "      <td>ham</td>\n",
       "      <td>Go until jurong point, crazy.. Available only ...</td>\n",
       "    </tr>\n",
       "    <tr>\n",
       "      <th>1</th>\n",
       "      <td>ham</td>\n",
       "      <td>Ok lar... Joking wif u oni...</td>\n",
       "    </tr>\n",
       "    <tr>\n",
       "      <th>2</th>\n",
       "      <td>spam</td>\n",
       "      <td>Free entry in 2 a wkly comp to win FA Cup fina...</td>\n",
       "    </tr>\n",
       "    <tr>\n",
       "      <th>3</th>\n",
       "      <td>ham</td>\n",
       "      <td>U dun say so early hor... U c already then say...</td>\n",
       "    </tr>\n",
       "    <tr>\n",
       "      <th>4</th>\n",
       "      <td>ham</td>\n",
       "      <td>Nah I don't think he goes to usf, he lives aro...</td>\n",
       "    </tr>\n",
       "  </tbody>\n",
       "</table>\n",
       "</div>"
      ],
      "text/plain": [
       "     v1                                                 v2\n",
       "0   ham  Go until jurong point, crazy.. Available only ...\n",
       "1   ham                      Ok lar... Joking wif u oni...\n",
       "2  spam  Free entry in 2 a wkly comp to win FA Cup fina...\n",
       "3   ham  U dun say so early hor... U c already then say...\n",
       "4   ham  Nah I don't think he goes to usf, he lives aro..."
      ]
     },
     "execution_count": 8,
     "metadata": {},
     "output_type": "execute_result"
    }
   ],
   "source": [
    "mail_data.head()"
   ]
  },
  {
   "cell_type": "code",
   "execution_count": 28,
   "id": "b8ae49ee",
   "metadata": {},
   "outputs": [
    {
     "data": {
      "text/plain": [
       "(5572, 2)"
      ]
     },
     "execution_count": 28,
     "metadata": {},
     "output_type": "execute_result"
    }
   ],
   "source": [
    "mail_data.shape"
   ]
  },
  {
   "cell_type": "markdown",
   "id": "654a52ce",
   "metadata": {},
   "source": [
    "# Label Encoding:"
   ]
  },
  {
   "cell_type": "code",
   "execution_count": 13,
   "id": "c32cca60",
   "metadata": {},
   "outputs": [],
   "source": [
    "#label spam mail as 0; ham mail as 1;\n",
    "mail_data.loc[mail_data['v1']=='spam','v1',]=0\n",
    "mail_data.loc[mail_data['v1']=='ham','v1',]=1"
   ]
  },
  {
   "cell_type": "code",
   "execution_count": 14,
   "id": "ba3e192f",
   "metadata": {},
   "outputs": [],
   "source": [
    "#separating the data as texts and labels\n",
    "\n",
    "x=mail_data['v2']\n",
    "y=mail_data['v1']"
   ]
  },
  {
   "cell_type": "code",
   "execution_count": 15,
   "id": "0c4b6b12",
   "metadata": {},
   "outputs": [
    {
     "name": "stdout",
     "output_type": "stream",
     "text": [
      "0       Go until jurong point, crazy.. Available only ...\n",
      "1                           Ok lar... Joking wif u oni...\n",
      "2       Free entry in 2 a wkly comp to win FA Cup fina...\n",
      "3       U dun say so early hor... U c already then say...\n",
      "4       Nah I don't think he goes to usf, he lives aro...\n",
      "                              ...                        \n",
      "5567    This is the 2nd time we have tried 2 contact u...\n",
      "5568                Will Ì_ b going to esplanade fr home?\n",
      "5569    Pity, * was in mood for that. So...any other s...\n",
      "5570    The guy did some bitching but I acted like i'd...\n",
      "5571                           Rofl. Its true to its name\n",
      "Name: v2, Length: 5572, dtype: object\n"
     ]
    }
   ],
   "source": [
    "print(x)"
   ]
  },
  {
   "cell_type": "code",
   "execution_count": 16,
   "id": "7fa09fc3",
   "metadata": {},
   "outputs": [
    {
     "name": "stdout",
     "output_type": "stream",
     "text": [
      "0       1\n",
      "1       1\n",
      "2       0\n",
      "3       1\n",
      "4       1\n",
      "       ..\n",
      "5567    0\n",
      "5568    1\n",
      "5569    1\n",
      "5570    1\n",
      "5571    1\n",
      "Name: v1, Length: 5572, dtype: object\n"
     ]
    }
   ],
   "source": [
    "print(y)"
   ]
  },
  {
   "cell_type": "markdown",
   "id": "8bafda90",
   "metadata": {},
   "source": [
    "# Splitting the data into Train data and Test data:"
   ]
  },
  {
   "cell_type": "code",
   "execution_count": 17,
   "id": "261980c7",
   "metadata": {},
   "outputs": [],
   "source": [
    "X_train,X_test,Y_train,Y_test = train_test_split(x,y,test_size=0.2,random_state=0)"
   ]
  },
  {
   "cell_type": "code",
   "execution_count": 18,
   "id": "0d053d92",
   "metadata": {},
   "outputs": [
    {
     "name": "stdout",
     "output_type": "stream",
     "text": [
      "(5572,)\n",
      "(4457,)\n",
      "(1115,)\n"
     ]
    }
   ],
   "source": [
    "print(x.shape)\n",
    "print(X_train.shape)\n",
    "print(X_test.shape)"
   ]
  },
  {
   "cell_type": "markdown",
   "id": "838f7da4",
   "metadata": {},
   "source": [
    "# Feature Extraction:"
   ]
  },
  {
   "cell_type": "code",
   "execution_count": 19,
   "id": "882b7434",
   "metadata": {},
   "outputs": [],
   "source": [
    "#transform the text data to feature vectors that can be used as input to the Logistic Regression\n",
    "\n",
    "feature_extraction=TfidfVectorizer(min_df=1,stop_words='english',lowercase=True)\n",
    "\n",
    "X_train_features=feature_extraction.fit_transform(X_train)\n",
    "X_test_features=feature_extraction.transform(X_test)\n",
    "\n",
    "# Convert Y_train and Y_test into integers\n",
    "\n",
    "Y_train=Y_train.astype('int')\n",
    "Y_test=Y_test.astype('int')"
   ]
  },
  {
   "cell_type": "code",
   "execution_count": 20,
   "id": "d8a4eccf",
   "metadata": {},
   "outputs": [
    {
     "name": "stdout",
     "output_type": "stream",
     "text": [
      "  (0, 2400)\t0.42251087562056844\n",
      "  (0, 6643)\t0.310713090556495\n",
      "  (0, 890)\t0.4431414936624499\n",
      "  (0, 3102)\t0.4078732191722945\n",
      "  (0, 3308)\t0.4607061502580205\n",
      "  (0, 3697)\t0.38724260113041314\n",
      "  (1, 4285)\t0.3619488551509563\n",
      "  (1, 3709)\t0.49218179847458676\n",
      "  (1, 7020)\t0.3597932878999011\n",
      "  (1, 3022)\t0.2656832920063487\n",
      "  (1, 6479)\t0.46190436338926344\n",
      "  (1, 2530)\t0.46190436338926344\n",
      "  (2, 3109)\t0.15859116597265116\n",
      "  (2, 4045)\t0.15859116597265116\n",
      "  (2, 777)\t0.24853230530973786\n",
      "  (2, 3267)\t0.3059351024463395\n",
      "  (2, 6904)\t0.3323889186374277\n",
      "  (2, 3867)\t0.22778533625897432\n",
      "  (2, 7140)\t0.3323889186374277\n",
      "  (2, 4836)\t0.2640067957824946\n",
      "  (2, 6113)\t0.3323889186374277\n",
      "  (2, 5497)\t0.39905624733507106\n",
      "  (2, 4344)\t0.29741887579744203\n",
      "  (2, 6985)\t0.3059351024463395\n",
      "  (3, 2642)\t0.4893788451570101\n",
      "  :\t:\n",
      "  (4454, 5637)\t0.25666584238764617\n",
      "  (4454, 1470)\t0.30396107829387736\n",
      "  (4454, 2095)\t0.24269967159421676\n",
      "  (4454, 7019)\t0.2053843287832964\n",
      "  (4454, 3827)\t0.23135590834159414\n",
      "  (4454, 1497)\t0.23226820104119308\n",
      "  (4454, 7341)\t0.20890830491902754\n",
      "  (4454, 5429)\t0.19670542026554755\n",
      "  (4454, 3910)\t0.17270121927633075\n",
      "  (4454, 7343)\t0.2392861616498662\n",
      "  (4454, 4729)\t0.28073274376176477\n",
      "  (4454, 3308)\t0.1879158344617664\n",
      "  (4455, 6125)\t0.49254399506332164\n",
      "  (4455, 4050)\t0.49254399506332164\n",
      "  (4455, 5524)\t0.42169555868350506\n",
      "  (4455, 3984)\t0.29566683378484426\n",
      "  (4455, 2219)\t0.327533135641731\n",
      "  (4455, 3910)\t0.23530364385877742\n",
      "  (4455, 7279)\t0.2948034010723991\n",
      "  (4456, 6225)\t0.36966265061037046\n",
      "  (4456, 2084)\t0.41127314829919703\n",
      "  (4456, 3217)\t0.320354882915036\n",
      "  (4456, 7185)\t0.661472367983503\n",
      "  (4456, 6367)\t0.3028676527451782\n",
      "  (4456, 6424)\t0.24960401146455696\n"
     ]
    }
   ],
   "source": [
    "print(X_train_features)"
   ]
  },
  {
   "cell_type": "markdown",
   "id": "28712aba",
   "metadata": {},
   "source": [
    "# Logistic Regression:"
   ]
  },
  {
   "cell_type": "code",
   "execution_count": 21,
   "id": "217443f8",
   "metadata": {},
   "outputs": [],
   "source": [
    "model=LogisticRegression()"
   ]
  },
  {
   "cell_type": "code",
   "execution_count": 22,
   "id": "07b46492",
   "metadata": {},
   "outputs": [
    {
     "data": {
      "text/html": [
       "<style>#sk-container-id-1 {color: black;}#sk-container-id-1 pre{padding: 0;}#sk-container-id-1 div.sk-toggleable {background-color: white;}#sk-container-id-1 label.sk-toggleable__label {cursor: pointer;display: block;width: 100%;margin-bottom: 0;padding: 0.3em;box-sizing: border-box;text-align: center;}#sk-container-id-1 label.sk-toggleable__label-arrow:before {content: \"▸\";float: left;margin-right: 0.25em;color: #696969;}#sk-container-id-1 label.sk-toggleable__label-arrow:hover:before {color: black;}#sk-container-id-1 div.sk-estimator:hover label.sk-toggleable__label-arrow:before {color: black;}#sk-container-id-1 div.sk-toggleable__content {max-height: 0;max-width: 0;overflow: hidden;text-align: left;background-color: #f0f8ff;}#sk-container-id-1 div.sk-toggleable__content pre {margin: 0.2em;color: black;border-radius: 0.25em;background-color: #f0f8ff;}#sk-container-id-1 input.sk-toggleable__control:checked~div.sk-toggleable__content {max-height: 200px;max-width: 100%;overflow: auto;}#sk-container-id-1 input.sk-toggleable__control:checked~label.sk-toggleable__label-arrow:before {content: \"▾\";}#sk-container-id-1 div.sk-estimator input.sk-toggleable__control:checked~label.sk-toggleable__label {background-color: #d4ebff;}#sk-container-id-1 div.sk-label input.sk-toggleable__control:checked~label.sk-toggleable__label {background-color: #d4ebff;}#sk-container-id-1 input.sk-hidden--visually {border: 0;clip: rect(1px 1px 1px 1px);clip: rect(1px, 1px, 1px, 1px);height: 1px;margin: -1px;overflow: hidden;padding: 0;position: absolute;width: 1px;}#sk-container-id-1 div.sk-estimator {font-family: monospace;background-color: #f0f8ff;border: 1px dotted black;border-radius: 0.25em;box-sizing: border-box;margin-bottom: 0.5em;}#sk-container-id-1 div.sk-estimator:hover {background-color: #d4ebff;}#sk-container-id-1 div.sk-parallel-item::after {content: \"\";width: 100%;border-bottom: 1px solid gray;flex-grow: 1;}#sk-container-id-1 div.sk-label:hover label.sk-toggleable__label {background-color: #d4ebff;}#sk-container-id-1 div.sk-serial::before {content: \"\";position: absolute;border-left: 1px solid gray;box-sizing: border-box;top: 0;bottom: 0;left: 50%;z-index: 0;}#sk-container-id-1 div.sk-serial {display: flex;flex-direction: column;align-items: center;background-color: white;padding-right: 0.2em;padding-left: 0.2em;position: relative;}#sk-container-id-1 div.sk-item {position: relative;z-index: 1;}#sk-container-id-1 div.sk-parallel {display: flex;align-items: stretch;justify-content: center;background-color: white;position: relative;}#sk-container-id-1 div.sk-item::before, #sk-container-id-1 div.sk-parallel-item::before {content: \"\";position: absolute;border-left: 1px solid gray;box-sizing: border-box;top: 0;bottom: 0;left: 50%;z-index: -1;}#sk-container-id-1 div.sk-parallel-item {display: flex;flex-direction: column;z-index: 1;position: relative;background-color: white;}#sk-container-id-1 div.sk-parallel-item:first-child::after {align-self: flex-end;width: 50%;}#sk-container-id-1 div.sk-parallel-item:last-child::after {align-self: flex-start;width: 50%;}#sk-container-id-1 div.sk-parallel-item:only-child::after {width: 0;}#sk-container-id-1 div.sk-dashed-wrapped {border: 1px dashed gray;margin: 0 0.4em 0.5em 0.4em;box-sizing: border-box;padding-bottom: 0.4em;background-color: white;}#sk-container-id-1 div.sk-label label {font-family: monospace;font-weight: bold;display: inline-block;line-height: 1.2em;}#sk-container-id-1 div.sk-label-container {text-align: center;}#sk-container-id-1 div.sk-container {/* jupyter's `normalize.less` sets `[hidden] { display: none; }` but bootstrap.min.css set `[hidden] { display: none !important; }` so we also need the `!important` here to be able to override the default hidden behavior on the sphinx rendered scikit-learn.org. See: https://github.com/scikit-learn/scikit-learn/issues/21755 */display: inline-block !important;position: relative;}#sk-container-id-1 div.sk-text-repr-fallback {display: none;}</style><div id=\"sk-container-id-1\" class=\"sk-top-container\"><div class=\"sk-text-repr-fallback\"><pre>LogisticRegression()</pre><b>In a Jupyter environment, please rerun this cell to show the HTML representation or trust the notebook. <br />On GitHub, the HTML representation is unable to render, please try loading this page with nbviewer.org.</b></div><div class=\"sk-container\" hidden><div class=\"sk-item\"><div class=\"sk-estimator sk-toggleable\"><input class=\"sk-toggleable__control sk-hidden--visually\" id=\"sk-estimator-id-1\" type=\"checkbox\" checked><label for=\"sk-estimator-id-1\" class=\"sk-toggleable__label sk-toggleable__label-arrow\">LogisticRegression</label><div class=\"sk-toggleable__content\"><pre>LogisticRegression()</pre></div></div></div></div></div>"
      ],
      "text/plain": [
       "LogisticRegression()"
      ]
     },
     "execution_count": 22,
     "metadata": {},
     "output_type": "execute_result"
    }
   ],
   "source": [
    "#training the logistic regression model with the training data\n",
    "\n",
    "model.fit(X_train_features,Y_train)"
   ]
  },
  {
   "cell_type": "markdown",
   "id": "ee67fbd6",
   "metadata": {},
   "source": [
    "# Evaluting the Trained Model:"
   ]
  },
  {
   "cell_type": "code",
   "execution_count": 23,
   "id": "db4c8067",
   "metadata": {},
   "outputs": [],
   "source": [
    "#prediction on training data\n",
    "\n",
    "prediction_on_training_data=model.predict(X_train_features)\n",
    "accuracy_on_training_data=accuracy_score(Y_train,prediction_on_training_data)"
   ]
  },
  {
   "cell_type": "code",
   "execution_count": 24,
   "id": "b8fe50da",
   "metadata": {},
   "outputs": [
    {
     "name": "stdout",
     "output_type": "stream",
     "text": [
      "Accuracy on training data: 0.9699349338119811\n"
     ]
    }
   ],
   "source": [
    "print(\"Accuracy on training data:\",accuracy_on_training_data)"
   ]
  },
  {
   "cell_type": "code",
   "execution_count": 25,
   "id": "a3149873",
   "metadata": {},
   "outputs": [],
   "source": [
    "#prediction on test data\n",
    "\n",
    "prediction_on_test_data=model.predict(X_test_features)\n",
    "accuracy_on_test_data=accuracy_score(Y_test,prediction_on_test_data)"
   ]
  },
  {
   "cell_type": "code",
   "execution_count": 26,
   "id": "c4f53592",
   "metadata": {},
   "outputs": [
    {
     "name": "stdout",
     "output_type": "stream",
     "text": [
      "Accuracy on test data: 0.9560538116591928\n"
     ]
    }
   ],
   "source": [
    "print(\"Accuracy on test data:\",accuracy_on_test_data)"
   ]
  },
  {
   "cell_type": "markdown",
   "id": "f70f96a0",
   "metadata": {},
   "source": [
    "# Building a Predictive system:"
   ]
  },
  {
   "cell_type": "code",
   "execution_count": 27,
   "id": "1937a609",
   "metadata": {},
   "outputs": [
    {
     "name": "stdout",
     "output_type": "stream",
     "text": [
      "[0]\n",
      "spam mail\n"
     ]
    }
   ],
   "source": [
    "input_mail=[\"URGENT! You have won a 1 week FREE membership in our å£100,000 Prize Jackpot! Txt the word: CLAIM to No: 81010 T&C www.dbuk.net LCCLTD POBOX 4403LDNW1A7RW18\"]\n",
    "\n",
    "#convert text to feature extraction\n",
    "input_data_features=feature_extraction.transform(input_mail)\n",
    "\n",
    "#making predictions\n",
    "prediction=model.predict(input_data_features)\n",
    "print(prediction)\n",
    "\n",
    "\n",
    "if prediction[0]==1:\n",
    "    print(\"Ham mail\")\n",
    "else:\n",
    "    print(\"spam mail\")"
   ]
  }
 ],
 "metadata": {
  "kernelspec": {
   "display_name": "Python 3 (ipykernel)",
   "language": "python",
   "name": "python3"
  },
  "language_info": {
   "codemirror_mode": {
    "name": "ipython",
    "version": 3
   },
   "file_extension": ".py",
   "mimetype": "text/x-python",
   "name": "python",
   "nbconvert_exporter": "python",
   "pygments_lexer": "ipython3",
   "version": "3.11.5"
  }
 },
 "nbformat": 4,
 "nbformat_minor": 5
}
